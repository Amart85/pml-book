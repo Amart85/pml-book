{
 "cells": [
  {
   "cell_type": "code",
   "execution_count": null,
   "id": "ead13670",
   "metadata": {},
   "outputs": [],
   "source": [
    "# Copyright 2021 Google LLC\n",
    "# Use of this source code is governed by an MIT-style\n",
    "# license that can be found in the LICENSE file or at\n",
    "# https://opensource.org/licenses/MIT.\n",
    "# Notebook authors: Kevin P. Murphy (murphyk@gmail.com)\n",
    "# and Mahmoud Soliman (mjs@aucegypt.edu)\n",
    "\n",
    "# This notebook reproduces figures for chapter 1 from the book\n",
    "# \"Probabilistic Machine Learning: An Introduction\"\n",
    "# by Kevin Murphy (MIT Press, 2021).\n",
    "# Book pdf is available from http://probml.ai"
   ]
  },
  {
   "cell_type": "markdown",
   "id": "835e5444",
   "metadata": {},
   "source": [
    "<a href=\"https://opensource.org/licenses/MIT\" target=\"_parent\"><img src=\"https://img.shields.io/github/license/probml/pyprobml\"/></a>"
   ]
  },
  {
   "cell_type": "markdown",
   "id": "e4849924",
   "metadata": {},
   "source": [
    "<a href=\"https://colab.research.google.com/github/probml/pml-book/blob/main/pml1/figure_notebooks/chapter1_introduction_figures.ipynb\" target=\"_parent\"><img src=\"https://colab.research.google.com/assets/colab-badge.svg\" alt=\"Open In Colab\"/></a>"
   ]
  },
  {
   "cell_type": "markdown",
   "id": "3c2fd0be",
   "metadata": {},
   "source": [
    "## Figure 1.1:<a name='1.1'></a> <a name='iris'></a> "
   ]
  },
  {
   "cell_type": "markdown",
   "id": "2bc39482",
   "metadata": {},
   "source": [
    "\n",
    " Three types of Iris flowers: Setosa, Versicolor and Virginica. Used with kind permission of Dennis Kramb and SIGNA"
   ]
  },
  {
   "cell_type": "code",
   "execution_count": null,
   "id": "00cfd26e",
   "metadata": {},
   "outputs": [],
   "source": [
    "#@title Click me to run setup { display-mode: \"form\" }\n",
    "try:\n",
    "  if PYPROBML_SETUP_ALREADY_RUN:\n",
    "    print('skipping setup')\n",
    "except:\n",
    "  PYPROBML_SETUP_ALREADY_RUN = True\n",
    "  print('running setup...')\n",
    "  !git clone --depth 1 https://github.com/probml/pyprobml  /pyprobml &> /dev/null \n",
    "  %cd -q /pyprobml/scripts\n",
    "  %reload_ext autoreload \n",
    "  %autoreload 2\n",
    "  !pip install superimport deimport -qqq\n",
    "  import superimport\n",
    "def try_deimport():\n",
    "  try: \n",
    "    from deimport.deimport import deimport\n",
    "    deimport(superimport,verbose=True)\n",
    "  except Exception as e:\n",
    "    print(e)\n  print('finished!')"
   ]
  },
  {
   "cell_type": "markdown",
   "id": "eceecd15",
   "metadata": {},
   "source": [
    "<img src=\"https://raw.githubusercontent.com/probml/pml-book/main/pml1/figures/images/Figure_1.1_A.png\" width=\"256\"/>"
   ]
  },
  {
   "cell_type": "markdown",
   "id": "f076b461",
   "metadata": {},
   "source": [
    "<img src=\"https://raw.githubusercontent.com/probml/pml-book/main/pml1/figures/images/Figure_1.1_B.png\" width=\"256\"/>"
   ]
  },
  {
   "cell_type": "markdown",
   "id": "1b9cb0c5",
   "metadata": {},
   "source": [
    "<img src=\"https://raw.githubusercontent.com/probml/pml-book/main/pml1/figures/images/Figure_1.1_C.png\" width=\"256\"/>"
   ]
  },
  {
   "cell_type": "markdown",
   "id": "12635b9b",
   "metadata": {},
   "source": [
    "## Figure 1.2:<a name='1.2'></a> <a name='cat'></a> "
   ]
  },
  {
   "cell_type": "markdown",
   "id": "73411076",
   "metadata": {},
   "source": [
    "\n",
    " Illustration of the image classification problem. From  https://cs231n.github.io/ . Used with kind permission of Andrej Karpathy"
   ]
  },
  {
   "cell_type": "code",
   "execution_count": null,
   "id": "00cfd26e",
   "metadata": {},
   "outputs": [],
   "source": [
    "#@title Click me to run setup { display-mode: \"form\" }\n",
    "try:\n",
    "  if PYPROBML_SETUP_ALREADY_RUN:\n",
    "    print('skipping setup')\n",
    "except:\n",
    "  PYPROBML_SETUP_ALREADY_RUN = True\n",
    "  print('running setup...')\n",
    "  !git clone --depth 1 https://github.com/probml/pyprobml  /pyprobml &> /dev/null \n",
    "  %cd -q /pyprobml/scripts\n",
    "  %reload_ext autoreload \n",
    "  %autoreload 2\n",
    "  !pip install superimport deimport -qqq\n",
    "  import superimport\n",
    "def try_deimport():\n",
    "  try: \n",
    "    from deimport.deimport import deimport\n",
    "    deimport(superimport,verbose=True)\n",
    "  except Exception as e:\n",
    "    print(e)\n  print('finished!')"
   ]
  },
  {
   "cell_type": "markdown",
   "id": "4b36e500",
   "metadata": {},
   "source": [
    "<img src=\"https://raw.githubusercontent.com/probml/pml-book/main/pml1/figures/images/Figure_1.2.png\" width=\"256\"/>"
   ]
  },
  {
   "cell_type": "markdown",
   "id": "85b08023",
   "metadata": {},
   "source": [
    "## Figure 1.3:<a name='1.3'></a> <a name='irisPairs'></a> "
   ]
  },
  {
   "cell_type": "markdown",
   "id": "161d8f89",
   "metadata": {},
   "source": [
    "\n",
    " Visualization of the Iris data as a pairwise scatter plot. On the diagonal we plot the marginal distribution of each feature for each class. The off-diagonals contain scatterplots of all possible pairs of features.  \n",
    "Figure(s) generated by [iris_plot.py](https://github.com/probml/pyprobml/blob/master/scripts/iris_plot.py) "
   ]
  },
  {
   "cell_type": "code",
   "execution_count": null,
   "id": "00cfd26e",
   "metadata": {},
   "outputs": [],
   "source": [
    "#@title Click me to run setup { display-mode: \"form\" }\n",
    "try:\n",
    "  if PYPROBML_SETUP_ALREADY_RUN:\n",
    "    print('skipping setup')\n",
    "except:\n",
    "  PYPROBML_SETUP_ALREADY_RUN = True\n",
    "  print('running setup...')\n",
    "  !git clone --depth 1 https://github.com/probml/pyprobml  /pyprobml &> /dev/null \n",
    "  %cd -q /pyprobml/scripts\n",
    "  %reload_ext autoreload \n",
    "  %autoreload 2\n",
    "  !pip install superimport deimport -qqq\n",
    "  import superimport\n",
    "def try_deimport():\n",
    "  try: \n",
    "    from deimport.deimport import deimport\n",
    "    deimport(superimport,verbose=True)\n",
    "  except Exception as e:\n",
    "    print(e)\n  print('finished!')"
   ]
  },
  {
   "cell_type": "code",
   "execution_count": null,
   "id": "a7edbf7c",
   "metadata": {},
   "outputs": [],
   "source": [
    "try_deimport()\n",
    "%run -n iris_plot.py"
   ]
  },
  {
   "cell_type": "markdown",
   "id": "136f1375",
   "metadata": {},
   "source": [
    "## Figure 1.4:<a name='1.4'></a> <a name='dtreeIrisDepth2'></a> "
   ]
  },
  {
   "cell_type": "markdown",
   "id": "5debfa21",
   "metadata": {},
   "source": [
    "\n",
    " Example of a decision tree of depth 2 applied to the Iris data, using just the petal length and petal width features. Leaf nodes are color coded according to the predicted class. The number of training samples that pass from the root to a node is shown inside each box; we show how many values of each class fall into this node. This vector of counts can be normalized to get a distribution over class labels for each node. We can then pick the majority class. Adapted from Figures 6.1 and 6.2 of <a href='#Geron2019'>[Aur19]</a> . "
   ]
  },
  {
   "cell_type": "markdown",
   "id": "1b165792",
   "metadata": {},
   "source": [
    "To reproduce this figure, click the open in colab button: <a href=\"https://colab.research.google.com/github/probml/probml-notebooks/blob/master/notebooks/iris_dtree.ipynb\" target=\"_parent\"><img src=\"https://colab.research.google.com/assets/colab-badge.svg\" alt=\"Open In Colab\"/></a>"
   ]
  },
  {
   "cell_type": "code",
   "execution_count": null,
   "id": "00cfd26e",
   "metadata": {},
   "outputs": [],
   "source": [
    "#@title Click me to run setup { display-mode: \"form\" }\n",
    "try:\n",
    "  if PYPROBML_SETUP_ALREADY_RUN:\n",
    "    print('skipping setup')\n",
    "except:\n",
    "  PYPROBML_SETUP_ALREADY_RUN = True\n",
    "  print('running setup...')\n",
    "  !git clone --depth 1 https://github.com/probml/pyprobml  /pyprobml &> /dev/null \n",
    "  %cd -q /pyprobml/scripts\n",
    "  %reload_ext autoreload \n",
    "  %autoreload 2\n",
    "  !pip install superimport deimport -qqq\n",
    "  import superimport\n",
    "def try_deimport():\n",
    "  try: \n",
    "    from deimport.deimport import deimport\n",
    "    deimport(superimport,verbose=True)\n",
    "  except Exception as e:\n",
    "    print(e)\n  print('finished!')"
   ]
  },
  {
   "cell_type": "markdown",
   "id": "ae074b40",
   "metadata": {},
   "source": [
    "<img src=\"https://raw.githubusercontent.com/probml/pml-book/main/pml1/figures/images/Figure_1.4_A.png\" width=\"256\"/>"
   ]
  },
  {
   "cell_type": "markdown",
   "id": "056ee28c",
   "metadata": {},
   "source": [
    "<img src=\"https://raw.githubusercontent.com/probml/pml-book/main/pml1/figures/images/Figure_1.4_B.png\" width=\"256\"/>"
   ]
  },
  {
   "cell_type": "markdown",
   "id": "4fc64277",
   "metadata": {},
   "source": [
    "## Figure 1.5:<a name='1.5'></a> <a name='linreg'></a> "
   ]
  },
  {
   "cell_type": "markdown",
   "id": "a611e1e0",
   "metadata": {},
   "source": [
    "\n",
    "(a) Linear regression on some 1d data. (b) The vertical lines denote the residuals between the observed output value for each input (blue circle) and its predicted value (red cross). The goal of least squares regression is to pick a line that minimizes the sum of squared residuals.  \n",
    "Figure(s) generated by [linreg_residuals_plot.py](https://github.com/probml/pyprobml/blob/master/scripts/linreg_residuals_plot.py) "
   ]
  },
  {
   "cell_type": "code",
   "execution_count": null,
   "id": "00cfd26e",
   "metadata": {},
   "outputs": [],
   "source": [
    "#@title Click me to run setup { display-mode: \"form\" }\n",
    "try:\n",
    "  if PYPROBML_SETUP_ALREADY_RUN:\n",
    "    print('skipping setup')\n",
    "except:\n",
    "  PYPROBML_SETUP_ALREADY_RUN = True\n",
    "  print('running setup...')\n",
    "  !git clone --depth 1 https://github.com/probml/pyprobml  /pyprobml &> /dev/null \n",
    "  %cd -q /pyprobml/scripts\n",
    "  %reload_ext autoreload \n",
    "  %autoreload 2\n",
    "  !pip install superimport deimport -qqq\n",
    "  import superimport\n",
    "def try_deimport():\n",
    "  try: \n",
    "    from deimport.deimport import deimport\n",
    "    deimport(superimport,verbose=True)\n",
    "  except Exception as e:\n",
    "    print(e)\n  print('finished!')"
   ]
  },
  {
   "cell_type": "code",
   "execution_count": null,
   "id": "e49dd1d7",
   "metadata": {},
   "outputs": [],
   "source": [
    "try_deimport()\n",
    "%run -n linreg_residuals_plot.py"
   ]
  },
  {
   "cell_type": "markdown",
   "id": "0435c0e4",
   "metadata": {},
   "source": [
    "## Figure 1.6:<a name='1.6'></a> <a name='polyfit2d'></a> "
   ]
  },
  {
   "cell_type": "markdown",
   "id": "c78f65f0",
   "metadata": {},
   "source": [
    "\n",
    " Linear and polynomial regression applied to 2d data. Vertical axis is temperature, horizontal axes are location within a room. Data was collected by some remote sensing motes at Intel's lab in Berkeley, CA (data courtesy of Romain Thibaux). (a) The fitted plane has the form $ f ( \\bm x  ) = w_0 + w_1 x_1 + w_2 x_2$. (b) Temperature data is fitted with a quadratic of the form $ f ( \\bm x  ) = w_0 + w_1 x_1 + w_2 x_2 + w_3 x_1^2 + w_4 x_2^2$.  \n",
    "Figure(s) generated by [linreg_2d_surface_demo.py](https://github.com/probml/pyprobml/blob/master/scripts/linreg_2d_surface_demo.py) "
   ]
  },
  {
   "cell_type": "code",
   "execution_count": null,
   "id": "00cfd26e",
   "metadata": {},
   "outputs": [],
   "source": [
    "#@title Click me to run setup { display-mode: \"form\" }\n",
    "try:\n",
    "  if PYPROBML_SETUP_ALREADY_RUN:\n",
    "    print('skipping setup')\n",
    "except:\n",
    "  PYPROBML_SETUP_ALREADY_RUN = True\n",
    "  print('running setup...')\n",
    "  !git clone --depth 1 https://github.com/probml/pyprobml  /pyprobml &> /dev/null \n",
    "  %cd -q /pyprobml/scripts\n",
    "  %reload_ext autoreload \n",
    "  %autoreload 2\n",
    "  !pip install superimport deimport -qqq\n",
    "  import superimport\n",
    "def try_deimport():\n",
    "  try: \n",
    "    from deimport.deimport import deimport\n",
    "    deimport(superimport,verbose=True)\n",
    "  except Exception as e:\n",
    "    print(e)\n  print('finished!')"
   ]
  },
  {
   "cell_type": "code",
   "execution_count": null,
   "id": "1b12c6a7",
   "metadata": {},
   "outputs": [],
   "source": [
    "try_deimport()\n",
    "%run -n linreg_2d_surface_demo.py"
   ]
  },
  {
   "cell_type": "markdown",
   "id": "c7608236",
   "metadata": {},
   "source": [
    "## Figure 1.7:<a name='1.7'></a> <a name='linregPoly'></a> "
   ]
  },
  {
   "cell_type": "markdown",
   "id": "f92cd6d5",
   "metadata": {},
   "source": [
    "\n",
    "(a-c) Polynomials of degrees 2, 14 and 20 fit to 21 datapoints (the same data as in \\cref fig:linreg ). (d) MSE vs degree.  \n",
    "Figure(s) generated by [linreg_poly_vs_degree.py](https://github.com/probml/pyprobml/blob/master/scripts/linreg_poly_vs_degree.py) "
   ]
  },
  {
   "cell_type": "code",
   "execution_count": null,
   "id": "00cfd26e",
   "metadata": {},
   "outputs": [],
   "source": [
    "#@title Click me to run setup { display-mode: \"form\" }\n",
    "try:\n",
    "  if PYPROBML_SETUP_ALREADY_RUN:\n",
    "    print('skipping setup')\n",
    "except:\n",
    "  PYPROBML_SETUP_ALREADY_RUN = True\n",
    "  print('running setup...')\n",
    "  !git clone --depth 1 https://github.com/probml/pyprobml  /pyprobml &> /dev/null \n",
    "  %cd -q /pyprobml/scripts\n",
    "  %reload_ext autoreload \n",
    "  %autoreload 2\n",
    "  !pip install superimport deimport -qqq\n",
    "  import superimport\n",
    "def try_deimport():\n",
    "  try: \n",
    "    from deimport.deimport import deimport\n",
    "    deimport(superimport,verbose=True)\n",
    "  except Exception as e:\n",
    "    print(e)\n  print('finished!')"
   ]
  },
  {
   "cell_type": "code",
   "execution_count": null,
   "id": "b660e4de",
   "metadata": {},
   "outputs": [],
   "source": [
    "try_deimport()\n",
    "%run -n linreg_poly_vs_degree.py"
   ]
  },
  {
   "cell_type": "markdown",
   "id": "982e1de1",
   "metadata": {},
   "source": [
    "## Figure 1.8:<a name='1.8'></a> <a name='eqn:irisClustering'></a> "
   ]
  },
  {
   "cell_type": "markdown",
   "id": "c9743c95",
   "metadata": {},
   "source": [
    "\n",
    "(a) A scatterplot of the petal features from the iris dataset. (b) The result of unsupervised clustering using $K=3$.  \n",
    "Figure(s) generated by [iris_kmeans.py](https://github.com/probml/pyprobml/blob/master/scripts/iris_kmeans.py) "
   ]
  },
  {
   "cell_type": "code",
   "execution_count": null,
   "id": "00cfd26e",
   "metadata": {},
   "outputs": [],
   "source": [
    "#@title Click me to run setup { display-mode: \"form\" }\n",
    "try:\n",
    "  if PYPROBML_SETUP_ALREADY_RUN:\n",
    "    print('skipping setup')\n",
    "except:\n",
    "  PYPROBML_SETUP_ALREADY_RUN = True\n",
    "  print('running setup...')\n",
    "  !git clone --depth 1 https://github.com/probml/pyprobml  /pyprobml &> /dev/null \n",
    "  %cd -q /pyprobml/scripts\n",
    "  %reload_ext autoreload \n",
    "  %autoreload 2\n",
    "  !pip install superimport deimport -qqq\n",
    "  import superimport\n",
    "def try_deimport():\n",
    "  try: \n",
    "    from deimport.deimport import deimport\n",
    "    deimport(superimport,verbose=True)\n",
    "  except Exception as e:\n",
    "    print(e)\n  print('finished!')"
   ]
  },
  {
   "cell_type": "code",
   "execution_count": null,
   "id": "e4b16c3d",
   "metadata": {},
   "outputs": [],
   "source": [
    "try_deimport()\n",
    "%run -n iris_kmeans.py"
   ]
  },
  {
   "cell_type": "markdown",
   "id": "ed17ae4b",
   "metadata": {},
   "source": [
    "## Figure 1.9:<a name='1.9'></a> <a name='pcaDemo'></a> "
   ]
  },
  {
   "cell_type": "markdown",
   "id": "f4a073e7",
   "metadata": {},
   "source": [
    "\n",
    "(a) Scatterplot of iris data (first 3 features). Points are color coded by class. (b) We fit a 2d linear subspace to the 3d data using PCA. The class labels are ignored. Red dots are the original data, black dots are points generated from the model using $  \\bm x    = \\mathbf W  \\bm z  +  \\bm \\mu   $, where $ \\bm z  $ are latent points on the underlying inferred 2d linear manifold.  \n",
    "Figure(s) generated by [iris_pca.py](https://github.com/probml/pyprobml/blob/master/scripts/iris_pca.py) "
   ]
  },
  {
   "cell_type": "code",
   "execution_count": null,
   "id": "00cfd26e",
   "metadata": {},
   "outputs": [],
   "source": [
    "#@title Click me to run setup { display-mode: \"form\" }\n",
    "try:\n",
    "  if PYPROBML_SETUP_ALREADY_RUN:\n",
    "    print('skipping setup')\n",
    "except:\n",
    "  PYPROBML_SETUP_ALREADY_RUN = True\n",
    "  print('running setup...')\n",
    "  !git clone --depth 1 https://github.com/probml/pyprobml  /pyprobml &> /dev/null \n",
    "  %cd -q /pyprobml/scripts\n",
    "  %reload_ext autoreload \n",
    "  %autoreload 2\n",
    "  !pip install superimport deimport -qqq\n",
    "  import superimport\n",
    "def try_deimport():\n",
    "  try: \n",
    "    from deimport.deimport import deimport\n",
    "    deimport(superimport,verbose=True)\n",
    "  except Exception as e:\n",
    "    print(e)\n  print('finished!')"
   ]
  },
  {
   "cell_type": "code",
   "execution_count": null,
   "id": "fc827049",
   "metadata": {},
   "outputs": [],
   "source": [
    "try_deimport()\n",
    "%run -n iris_pca.py"
   ]
  },
  {
   "cell_type": "markdown",
   "id": "75196132",
   "metadata": {},
   "source": [
    "## Figure 1.10:<a name='1.10'></a> <a name='humanoid'></a> "
   ]
  },
  {
   "cell_type": "markdown",
   "id": "eab88b0a",
   "metadata": {},
   "source": [
    "\n",
    " Examples of some control problems. (a) Space Invaders Atari game. From  https://gym.openai.com/envs/SpaceInvaders-v0/ . (b) Controlling a humanoid robot in the MuJuCo simulator so it walks as fast as possible without falling over. From  https://gym.openai.com/envs/Humanoid-v2/ "
   ]
  },
  {
   "cell_type": "code",
   "execution_count": null,
   "id": "00cfd26e",
   "metadata": {},
   "outputs": [],
   "source": [
    "#@title Click me to run setup { display-mode: \"form\" }\n",
    "try:\n",
    "  if PYPROBML_SETUP_ALREADY_RUN:\n",
    "    print('skipping setup')\n",
    "except:\n",
    "  PYPROBML_SETUP_ALREADY_RUN = True\n",
    "  print('running setup...')\n",
    "  !git clone --depth 1 https://github.com/probml/pyprobml  /pyprobml &> /dev/null \n",
    "  %cd -q /pyprobml/scripts\n",
    "  %reload_ext autoreload \n",
    "  %autoreload 2\n",
    "  !pip install superimport deimport -qqq\n",
    "  import superimport\n",
    "def try_deimport():\n",
    "  try: \n",
    "    from deimport.deimport import deimport\n",
    "    deimport(superimport,verbose=True)\n",
    "  except Exception as e:\n",
    "    print(e)\n  print('finished!')"
   ]
  },
  {
   "cell_type": "markdown",
   "id": "43d3efef",
   "metadata": {},
   "source": [
    "<img src=\"https://raw.githubusercontent.com/probml/pml-book/main/pml1/figures/images/Figure_1.10_A.png\" width=\"256\"/>"
   ]
  },
  {
   "cell_type": "markdown",
   "id": "18aed5d9",
   "metadata": {},
   "source": [
    "<img src=\"https://raw.githubusercontent.com/probml/pml-book/main/pml1/figures/images/Figure_1.10_B.png\" width=\"256\"/>"
   ]
  },
  {
   "cell_type": "markdown",
   "id": "e438e431",
   "metadata": {},
   "source": [
    "## Figure 1.11:<a name='1.11'></a> <a name='cake'></a> "
   ]
  },
  {
   "cell_type": "markdown",
   "id": "b6e32900",
   "metadata": {},
   "source": [
    "\n",
    " The three types of machine learning visualized as layers of a chocolate cake. This figure (originally from  https://bit.ly/2m65Vs1 ) was used in a talk by Yann LeCun at NIPS'16, and is used with his kind permission"
   ]
  },
  {
   "cell_type": "code",
   "execution_count": null,
   "id": "00cfd26e",
   "metadata": {},
   "outputs": [],
   "source": [
    "#@title Click me to run setup { display-mode: \"form\" }\n",
    "try:\n",
    "  if PYPROBML_SETUP_ALREADY_RUN:\n",
    "    print('skipping setup')\n",
    "except:\n",
    "  PYPROBML_SETUP_ALREADY_RUN = True\n",
    "  print('running setup...')\n",
    "  !git clone --depth 1 https://github.com/probml/pyprobml  /pyprobml &> /dev/null \n",
    "  %cd -q /pyprobml/scripts\n",
    "  %reload_ext autoreload \n",
    "  %autoreload 2\n",
    "  !pip install superimport deimport -qqq\n",
    "  import superimport\n",
    "def try_deimport():\n",
    "  try: \n",
    "    from deimport.deimport import deimport\n",
    "    deimport(superimport,verbose=True)\n",
    "  except Exception as e:\n",
    "    print(e)\n  print('finished!')"
   ]
  },
  {
   "cell_type": "markdown",
   "id": "943049c6",
   "metadata": {},
   "source": [
    "<img src=\"https://raw.githubusercontent.com/probml/pml-book/main/pml1/figures/images/Figure_1.11.png\" width=\"256\"/>"
   ]
  },
  {
   "cell_type": "markdown",
   "id": "7d52e032",
   "metadata": {},
   "source": [
    "## Figure 1.12:<a name='1.12'></a> <a name='emnist'></a> "
   ]
  },
  {
   "cell_type": "markdown",
   "id": "5f104315",
   "metadata": {},
   "source": [
    "\n",
    "(a) Visualization of the MNIST dataset. Each image is $28 \\times 28$. There are 60k training examples and 10k test examples. We show the first 25 images from the training set.  \n",
    "Figure(s) generated by [mnist_viz_tf.py](https://github.com/probml/pyprobml/blob/master/scripts/mnist_viz_tf.py) [emnist_viz_pytorch.py](https://github.com/probml/pyprobml/blob/master/scripts/emnist_viz_pytorch.py) "
   ]
  },
  {
   "cell_type": "code",
   "execution_count": null,
   "id": "00cfd26e",
   "metadata": {},
   "outputs": [],
   "source": [
    "#@title Click me to run setup { display-mode: \"form\" }\n",
    "try:\n",
    "  if PYPROBML_SETUP_ALREADY_RUN:\n",
    "    print('skipping setup')\n",
    "except:\n",
    "  PYPROBML_SETUP_ALREADY_RUN = True\n",
    "  print('running setup...')\n",
    "  !git clone --depth 1 https://github.com/probml/pyprobml  /pyprobml &> /dev/null \n",
    "  %cd -q /pyprobml/scripts\n",
    "  %reload_ext autoreload \n",
    "  %autoreload 2\n",
    "  !pip install superimport deimport -qqq\n",
    "  import superimport\n",
    "def try_deimport():\n",
    "  try: \n",
    "    from deimport.deimport import deimport\n",
    "    deimport(superimport,verbose=True)\n",
    "  except Exception as e:\n",
    "    print(e)\n  print('finished!')"
   ]
  },
  {
   "cell_type": "code",
   "execution_count": null,
   "id": "76160f1d",
   "metadata": {},
   "outputs": [],
   "source": [
    "try_deimport()\n",
    "%run -n mnist_viz_tf.py"
   ]
  },
  {
   "cell_type": "code",
   "execution_count": null,
   "id": "47f7a7f0",
   "metadata": {},
   "outputs": [],
   "source": [
    "try_deimport()\n",
    "%run -n emnist_viz_pytorch.py"
   ]
  },
  {
   "cell_type": "markdown",
   "id": "6ee3b9bc",
   "metadata": {},
   "source": [
    "## Figure 1.13:<a name='1.13'></a> <a name='CIFAR'></a> "
   ]
  },
  {
   "cell_type": "markdown",
   "id": "2b85546b",
   "metadata": {},
   "source": [
    "\n",
    "(a) Visualization of the Fashion-MNIST dataset <a href='#fashion'>[XRV17]</a> . The dataset has the same size as MNIST, but is harder to classify. There are 10 classes: T-shirt/top, Trouser, Pullover, Dress, Coat, Sandal, Shirt, Sneaker, Bag, Ankle-boot. We show the first 25 images from the training set.  \n",
    "Figure(s) generated by [fashion_viz_tf.py](https://github.com/probml/pyprobml/blob/master/scripts/fashion_viz_tf.py) [cifar_viz_tf.py](https://github.com/probml/pyprobml/blob/master/scripts/cifar_viz_tf.py) "
   ]
  },
  {
   "cell_type": "code",
   "execution_count": null,
   "id": "00cfd26e",
   "metadata": {},
   "outputs": [],
   "source": [
    "#@title Click me to run setup { display-mode: \"form\" }\n",
    "try:\n",
    "  if PYPROBML_SETUP_ALREADY_RUN:\n",
    "    print('skipping setup')\n",
    "except:\n",
    "  PYPROBML_SETUP_ALREADY_RUN = True\n",
    "  print('running setup...')\n",
    "  !git clone --depth 1 https://github.com/probml/pyprobml  /pyprobml &> /dev/null \n",
    "  %cd -q /pyprobml/scripts\n",
    "  %reload_ext autoreload \n",
    "  %autoreload 2\n",
    "  !pip install superimport deimport -qqq\n",
    "  import superimport\n",
    "def try_deimport():\n",
    "  try: \n",
    "    from deimport.deimport import deimport\n",
    "    deimport(superimport,verbose=True)\n",
    "  except Exception as e:\n",
    "    print(e)\n  print('finished!')"
   ]
  },
  {
   "cell_type": "code",
   "execution_count": null,
   "id": "31b594c0",
   "metadata": {},
   "outputs": [],
   "source": [
    "try_deimport()\n",
    "%run -n fashion_viz_tf.py"
   ]
  },
  {
   "cell_type": "code",
   "execution_count": null,
   "id": "7681ef07",
   "metadata": {},
   "outputs": [],
   "source": [
    "try_deimport()\n",
    "%run -n cifar_viz_tf.py"
   ]
  },
  {
   "cell_type": "markdown",
   "id": "29e965cd",
   "metadata": {},
   "source": [
    "## Figure 1.14:<a name='1.14'></a> <a name='imagenetError'></a> "
   ]
  },
  {
   "cell_type": "markdown",
   "id": "ce6e4c1d",
   "metadata": {},
   "source": [
    "\n",
    "(a) Sample images from the  \\bf ImageNet  dataset <a href='#ILSVRC15'>[Rus+15]</a> . This subset consists of 1.3M color training images, each of which is $256 \\times 256$ pixels in size. There are 1000 possible labels, one per image, and the task is to minimize the top-5 error rate, i.e., to ensure the correct label is within the 5 most probable predictions. Below each image we show the true label, and a distribution over the top 5 predicted labels. If the true label is in the top 5, its probability bar is colored red. Predictions are generated by a convolutional neural network (CNN) called ``AlexNet'' (\\cref sec:alexNet ). From Figure 4 of <a href='#Krizhevsky12'>[KSH12]</a> . Used with kind permission of Alex Krizhevsky. (b) Misclassification rate (top 5) on the ImageNet competition over time. Used with kind permission of Andrej Karpathy"
   ]
  },
  {
   "cell_type": "code",
   "execution_count": null,
   "id": "00cfd26e",
   "metadata": {},
   "outputs": [],
   "source": [
    "#@title Click me to run setup { display-mode: \"form\" }\n",
    "try:\n",
    "  if PYPROBML_SETUP_ALREADY_RUN:\n",
    "    print('skipping setup')\n",
    "except:\n",
    "  PYPROBML_SETUP_ALREADY_RUN = True\n",
    "  print('running setup...')\n",
    "  !git clone --depth 1 https://github.com/probml/pyprobml  /pyprobml &> /dev/null \n",
    "  %cd -q /pyprobml/scripts\n",
    "  %reload_ext autoreload \n",
    "  %autoreload 2\n",
    "  !pip install superimport deimport -qqq\n",
    "  import superimport\n",
    "def try_deimport():\n",
    "  try: \n",
    "    from deimport.deimport import deimport\n",
    "    deimport(superimport,verbose=True)\n",
    "  except Exception as e:\n",
    "    print(e)\n  print('finished!')"
   ]
  },
  {
   "cell_type": "markdown",
   "id": "60f100ce",
   "metadata": {},
   "source": [
    "<img src=\"https://raw.githubusercontent.com/probml/pml-book/main/pml1/figures/images/Figure_1.14_A.png\" width=\"256\"/>"
   ]
  },
  {
   "cell_type": "markdown",
   "id": "b9a994da",
   "metadata": {},
   "source": [
    "<img src=\"https://raw.githubusercontent.com/probml/pml-book/main/pml1/figures/images/Figure_1.14_B.png\" width=\"256\"/>"
   ]
  },
  {
   "cell_type": "markdown",
   "id": "b98672a0",
   "metadata": {},
   "source": [
    "## Figure 1.15:<a name='1.15'></a> <a name='termDoc'></a> "
   ]
  },
  {
   "cell_type": "markdown",
   "id": "0e6393b2",
   "metadata": {},
   "source": [
    "\n",
    " Example of a term-document matrix, where raw counts have been replaced by their TF-IDF values (see \\cref sec:tfidf ). Darker cells are larger values. From  https://bit.ly/2kByLQI . Used with kind permission of Christoph Carl Kling"
   ]
  },
  {
   "cell_type": "code",
   "execution_count": null,
   "id": "00cfd26e",
   "metadata": {},
   "outputs": [],
   "source": [
    "#@title Click me to run setup { display-mode: \"form\" }\n",
    "try:\n",
    "  if PYPROBML_SETUP_ALREADY_RUN:\n",
    "    print('skipping setup')\n",
    "except:\n",
    "  PYPROBML_SETUP_ALREADY_RUN = True\n",
    "  print('running setup...')\n",
    "  !git clone --depth 1 https://github.com/probml/pyprobml  /pyprobml &> /dev/null \n",
    "  %cd -q /pyprobml/scripts\n",
    "  %reload_ext autoreload \n",
    "  %autoreload 2\n",
    "  !pip install superimport deimport -qqq\n",
    "  import superimport\n",
    "def try_deimport():\n",
    "  try: \n",
    "    from deimport.deimport import deimport\n",
    "    deimport(superimport,verbose=True)\n",
    "  except Exception as e:\n",
    "    print(e)\n  print('finished!')"
   ]
  },
  {
   "cell_type": "markdown",
   "id": "1980b348",
   "metadata": {},
   "source": [
    "<img src=\"https://raw.githubusercontent.com/probml/pml-book/main/pml1/figures/images/Figure_1.15.png\" width=\"256\"/>"
   ]
  },
  {
   "cell_type": "markdown",
   "id": "7fe9f05f",
   "metadata": {},
   "source": [
    "## References:\n",
    " <a name='Geron2019'>[Aur19]</a> G. Aur'elien \"Hands-On Machine Learning with Scikit-Learn and TensorFlow: Concepts, Tools, and Techniques for BuildingIntelligent Systems (2nd edition)\". (2019). \n",
    "\n",
    "<a name='Krizhevsky12'>[KSH12]</a> A. Krizhevsky, I. Sutskever and G. Hinton. \"Imagenet classification with deep convolutional neural networks\". (2012). \n",
    "\n",
    "<a name='ILSVRC15'>[Rus+15]</a> O. Russakovsky, J. Deng, H. Su, J. Krause, S. Satheesh, S. Ma, Z. Huang, A. Karpathy, A. Khosla, M. Bernstein, A. Berg and L. Fei-Fei. \"ImageNet Large Scale Visual Recognition Challenge\". In: ijcv (2015). \n",
    "\n",
    "<a name='fashion'>[XRV17]</a> H. Xiao, K. Rasul and R. Vollgraf. \"Fashion-MNIST: a Novel Image Dataset for Benchmarking Machine Learning Algorithms\". abs/1708.07747 (2017). arXiv: 1708.07747 \n",
    "\n"
   ]
  }
 ],
 "metadata": {
  "kernelspec": {
   "display_name": "Python 3",
   "name": "python3"
  }
 },
 "nbformat": 4,
 "nbformat_minor": 5
}
