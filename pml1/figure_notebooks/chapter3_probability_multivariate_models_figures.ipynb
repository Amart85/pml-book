{
 "cells": [
  {
   "cell_type": "code",
   "execution_count": null,
   "id": "c6a10911",
   "metadata": {},
   "outputs": [],
   "source": [
    "# Copyright 2021 Google LLC\n",
    "# Use of this source code is governed by an MIT-style\n",
    "# license that can be found in the LICENSE file or at\n",
    "# https://opensource.org/licenses/MIT.\n",
    "# Notebook authors: Kevin P. Murphy (murphyk@gmail.com)\n",
    "# and Mahmoud Soliman (mjs@aucegypt.edu)\n",
    "\n",
    "# This notebook reproduces figures for chapter 3 from the book\n",
    "# \"Probabilistic Machine Learning: An Introduction\"\n",
    "# by Kevin Murphy (MIT Press, 2021).\n",
    "# Book pdf is available from http://probml.ai"
   ]
  },
  {
   "cell_type": "markdown",
   "id": "5be80293",
   "metadata": {},
   "source": [
    "<a href=\"https://opensource.org/licenses/MIT\" target=\"_parent\"><img src=\"https://img.shields.io/github/license/probml/pyprobml\"/></a>"
   ]
  },
  {
   "cell_type": "markdown",
   "id": "55afc592",
   "metadata": {},
   "source": [
    "<a href=\"https://colab.research.google.com/github/probml/pml-book/blob/main/pml1/figure_notebooks/chapter3_probability_multivariate_models_figures.ipynb\" target=\"_parent\"><img src=\"https://colab.research.google.com/assets/colab-badge.svg\" alt=\"Open In Colab\"/></a>"
   ]
  },
  {
   "cell_type": "markdown",
   "id": "d7858c72",
   "metadata": {},
   "source": [
    "## Figure 3.1:<a name='3.1'></a> <a name='corrcoefWikipedia'></a> "
   ]
  },
  {
   "cell_type": "markdown",
   "id": "c683a5c2",
   "metadata": {},
   "source": [
    "\n",
    " Several sets of $(x, y)$ points, with the correlation coefficient of $x$ and $y$ for each set. Note that the correlation reflects the noisiness and direction of a linear relationship (top row), but not the slope of that relationship (middle), nor many aspects of nonlinear relationships (bottom). (Note: the figure in the center has a slope of 0 but in that case the correlation coefficient is undefined because the variance of $Y$ is zero.) From  https://en.wikipedia.org/wiki/Pearson_correlation_coefficient . Used with kind permission of Wikipedia author Imagecreator"
   ]
  },
  {
   "cell_type": "code",
   "execution_count": null,
   "id": "d82e6277",
   "metadata": {},
   "outputs": [],
   "source": [
    "#@title Click me to run setup { display-mode: \"form\" }\n",
    "try:\n",
    "  if PYPROBML_SETUP_ALREADY_RUN:\n",
    "    print('skipping setup')\n",
    "except:\n",
    "  PYPROBML_SETUP_ALREADY_RUN = True\n",
    "  print('running setup...')\n",
    "  !git clone --depth 1 https://github.com/probml/pyprobml  /pyprobml &> /dev/null \n",
    "  %cd -q /pyprobml/scripts\n",
    "  %reload_ext autoreload \n",
    "  %autoreload 2\n",
    "  !pip install superimport deimport -qqq\n",
    "  import superimport\n",
    "def try_deimport():\n",
    "  try: \n",
    "    from deimport.deimport import deimport\n",
    "    deimport(superimport,verbose=True)\n",
    "  except Exception as e:\n",
    "    print(e)\n  print('finished!')"
   ]
  },
  {
   "cell_type": "markdown",
   "id": "7fab8897",
   "metadata": {},
   "source": [
    "<img src=\"https://raw.githubusercontent.com/probml/pml-book/main/pml1/figures/images/Figure_3.1.png\" width=\"256\"/>"
   ]
  },
  {
   "cell_type": "markdown",
   "id": "06a4b52d",
   "metadata": {},
   "source": [
    "## Figure 3.2:<a name='3.2'></a> <a name='ice-cream'></a> "
   ]
  },
  {
   "cell_type": "markdown",
   "id": "7d388f88",
   "metadata": {},
   "source": [
    "\n",
    " Examples of spurious correlation between causally unrelated time series. Consumption of ice cream (red) and violent crime rate (yellow). over time. From  http://icbseverywhere.com/blog/2014/10/the-logic-of-causal-conclusions/ . Used with kind permission of Barbara Drescher"
   ]
  },
  {
   "cell_type": "code",
   "execution_count": null,
   "id": "d82e6277",
   "metadata": {},
   "outputs": [],
   "source": [
    "#@title Click me to run setup { display-mode: \"form\" }\n",
    "try:\n",
    "  if PYPROBML_SETUP_ALREADY_RUN:\n",
    "    print('skipping setup')\n",
    "except:\n",
    "  PYPROBML_SETUP_ALREADY_RUN = True\n",
    "  print('running setup...')\n",
    "  !git clone --depth 1 https://github.com/probml/pyprobml  /pyprobml &> /dev/null \n",
    "  %cd -q /pyprobml/scripts\n",
    "  %reload_ext autoreload \n",
    "  %autoreload 2\n",
    "  !pip install superimport deimport -qqq\n",
    "  import superimport\n",
    "def try_deimport():\n",
    "  try: \n",
    "    from deimport.deimport import deimport\n",
    "    deimport(superimport,verbose=True)\n",
    "  except Exception as e:\n",
    "    print(e)\n  print('finished!')"
   ]
  },
  {
   "cell_type": "markdown",
   "id": "d4c3002e",
   "metadata": {},
   "source": [
    "<img src=\"https://raw.githubusercontent.com/probml/pml-book/main/pml1/figures/images/Figure_3.2.jpg\" width=\"256\"/>"
   ]
  },
  {
   "cell_type": "markdown",
   "id": "c49bf7fc",
   "metadata": {},
   "source": [
    "## Figure 3.3:<a name='3.3'></a> <a name='simpsonsParadoxGraph'></a> "
   ]
  },
  {
   "cell_type": "markdown",
   "id": "cb5c3517",
   "metadata": {},
   "source": [
    "\n",
    " Illustration of Simpson's paradox. (a) Overall, $y$ decreases $y$ with $x$. (b) Within each group, $y$ increases with $x$. From  https://en.wikipedia.org/wiki/Simpson's_paradox . Used with kind permission of Wikipedia author Pace\\nobreakspace  svwiki"
   ]
  },
  {
   "cell_type": "code",
   "execution_count": null,
   "id": "d82e6277",
   "metadata": {},
   "outputs": [],
   "source": [
    "#@title Click me to run setup { display-mode: \"form\" }\n",
    "try:\n",
    "  if PYPROBML_SETUP_ALREADY_RUN:\n",
    "    print('skipping setup')\n",
    "except:\n",
    "  PYPROBML_SETUP_ALREADY_RUN = True\n",
    "  print('running setup...')\n",
    "  !git clone --depth 1 https://github.com/probml/pyprobml  /pyprobml &> /dev/null \n",
    "  %cd -q /pyprobml/scripts\n",
    "  %reload_ext autoreload \n",
    "  %autoreload 2\n",
    "  !pip install superimport deimport -qqq\n",
    "  import superimport\n",
    "def try_deimport():\n",
    "  try: \n",
    "    from deimport.deimport import deimport\n",
    "    deimport(superimport,verbose=True)\n",
    "  except Exception as e:\n",
    "    print(e)\n  print('finished!')"
   ]
  },
  {
   "cell_type": "markdown",
   "id": "d02a2980",
   "metadata": {},
   "source": [
    "<img src=\"https://raw.githubusercontent.com/probml/pml-book/main/pml1/figures/images/Figure_3.3_A.png\" width=\"256\"/>"
   ]
  },
  {
   "cell_type": "markdown",
   "id": "45d6935b",
   "metadata": {},
   "source": [
    "<img src=\"https://raw.githubusercontent.com/probml/pml-book/main/pml1/figures/images/Figure_3.3_B.png\" width=\"256\"/>"
   ]
  },
  {
   "cell_type": "markdown",
   "id": "4665f7a8",
   "metadata": {},
   "source": [
    "## Figure 3.4:<a name='3.4'></a> <a name='simpsonsCovid'></a> "
   ]
  },
  {
   "cell_type": "markdown",
   "id": "c4be90a5",
   "metadata": {},
   "source": [
    "\n",
    " Illustration of Simpson's paradox using COVID-19\\xspace , (a) Case fatality rates (CFRs) in Italy and China by age group, and in aggregated form (``Total'', last pair of bars), up to the time of reporting (see legend). (b) Proportion of all confirmed cases included in (a) within each age group by country. From Figure 1 of <a href='#VonKugelgen2020'>[JLB20]</a> . Used with kind permission of Julius von K \\\"u gelgen"
   ]
  },
  {
   "cell_type": "code",
   "execution_count": null,
   "id": "d82e6277",
   "metadata": {},
   "outputs": [],
   "source": [
    "#@title Click me to run setup { display-mode: \"form\" }\n",
    "try:\n",
    "  if PYPROBML_SETUP_ALREADY_RUN:\n",
    "    print('skipping setup')\n",
    "except:\n",
    "  PYPROBML_SETUP_ALREADY_RUN = True\n",
    "  print('running setup...')\n",
    "  !git clone --depth 1 https://github.com/probml/pyprobml  /pyprobml &> /dev/null \n",
    "  %cd -q /pyprobml/scripts\n",
    "  %reload_ext autoreload \n",
    "  %autoreload 2\n",
    "  !pip install superimport deimport -qqq\n",
    "  import superimport\n",
    "def try_deimport():\n",
    "  try: \n",
    "    from deimport.deimport import deimport\n",
    "    deimport(superimport,verbose=True)\n",
    "  except Exception as e:\n",
    "    print(e)\n  print('finished!')"
   ]
  },
  {
   "cell_type": "markdown",
   "id": "ef384d3c",
   "metadata": {},
   "source": [
    "<img src=\"https://raw.githubusercontent.com/probml/pml-book/main/pml1/figures/images/Figure_3.4_A.png\" width=\"256\"/>"
   ]
  },
  {
   "cell_type": "markdown",
   "id": "06bb8c3f",
   "metadata": {},
   "source": [
    "<img src=\"https://raw.githubusercontent.com/probml/pml-book/main/pml1/figures/images/Figure_3.4_B.png\" width=\"256\"/>"
   ]
  },
  {
   "cell_type": "markdown",
   "id": "bbfbda32",
   "metadata": {},
   "source": [
    "## Figure 3.5:<a name='3.5'></a> <a name='gaussPlot2dSurf'></a> "
   ]
  },
  {
   "cell_type": "markdown",
   "id": "4e7cb982",
   "metadata": {},
   "source": [
    "\n",
    " Visualization of a 2d Gaussian density as a surface plot. (a) Distribution using a full covariance matrix can be oriented at any angle. (b) Distribution using a diagonal covariance matrix must be parallel to the axis. (c) Distribution using a spherical covariance matrix must have a symmetric shape.  \n",
    "Figure(s) generated by [gauss_plot_2d.py](https://github.com/probml/pyprobml/blob/master/scripts/gauss_plot_2d.py) "
   ]
  },
  {
   "cell_type": "code",
   "execution_count": null,
   "id": "d82e6277",
   "metadata": {},
   "outputs": [],
   "source": [
    "#@title Click me to run setup { display-mode: \"form\" }\n",
    "try:\n",
    "  if PYPROBML_SETUP_ALREADY_RUN:\n",
    "    print('skipping setup')\n",
    "except:\n",
    "  PYPROBML_SETUP_ALREADY_RUN = True\n",
    "  print('running setup...')\n",
    "  !git clone --depth 1 https://github.com/probml/pyprobml  /pyprobml &> /dev/null \n",
    "  %cd -q /pyprobml/scripts\n",
    "  %reload_ext autoreload \n",
    "  %autoreload 2\n",
    "  !pip install superimport deimport -qqq\n",
    "  import superimport\n",
    "def try_deimport():\n",
    "  try: \n",
    "    from deimport.deimport import deimport\n",
    "    deimport(superimport,verbose=True)\n",
    "  except Exception as e:\n",
    "    print(e)\n  print('finished!')"
   ]
  },
  {
   "cell_type": "code",
   "execution_count": null,
   "id": "de9578f0",
   "metadata": {},
   "outputs": [],
   "source": [
    "try_deimport()\n",
    "%run -n gauss_plot_2d.py"
   ]
  },
  {
   "cell_type": "markdown",
   "id": "82b34488",
   "metadata": {},
   "source": [
    "## Figure 3.6:<a name='3.6'></a> <a name='gaussPlot2dContour'></a> "
   ]
  },
  {
   "cell_type": "markdown",
   "id": "cf013c9b",
   "metadata": {},
   "source": [
    "\n",
    " Visualization of a 2d Gaussian density in terms of level sets of constant probability density. (a) A full covariance matrix has elliptical contours. (b) A diagonal covariance matrix is an  \\bf axis aligned  ellipse. (c) A spherical covariance matrix has a circular shape.  \n",
    "Figure(s) generated by [gauss_plot_2d.py](https://github.com/probml/pyprobml/blob/master/scripts/gauss_plot_2d.py) "
   ]
  },
  {
   "cell_type": "code",
   "execution_count": null,
   "id": "d82e6277",
   "metadata": {},
   "outputs": [],
   "source": [
    "#@title Click me to run setup { display-mode: \"form\" }\n",
    "try:\n",
    "  if PYPROBML_SETUP_ALREADY_RUN:\n",
    "    print('skipping setup')\n",
    "except:\n",
    "  PYPROBML_SETUP_ALREADY_RUN = True\n",
    "  print('running setup...')\n",
    "  !git clone --depth 1 https://github.com/probml/pyprobml  /pyprobml &> /dev/null \n",
    "  %cd -q /pyprobml/scripts\n",
    "  %reload_ext autoreload \n",
    "  %autoreload 2\n",
    "  !pip install superimport deimport -qqq\n",
    "  import superimport\n",
    "def try_deimport():\n",
    "  try: \n",
    "    from deimport.deimport import deimport\n",
    "    deimport(superimport,verbose=True)\n",
    "  except Exception as e:\n",
    "    print(e)\n  print('finished!')"
   ]
  },
  {
   "cell_type": "code",
   "execution_count": null,
   "id": "03ed4eec",
   "metadata": {},
   "outputs": [],
   "source": [
    "try_deimport()\n",
    "%run -n gauss_plot_2d.py"
   ]
  },
  {
   "cell_type": "markdown",
   "id": "aed9809f",
   "metadata": {},
   "source": [
    "## Figure 3.7:<a name='3.7'></a> <a name='imputeMvn'></a> "
   ]
  },
  {
   "cell_type": "markdown",
   "id": "c35345a9",
   "metadata": {},
   "source": [
    "\n",
    " Illustration of data imputation using an MVN. (a) Visualization of the data matrix. Blank entries are missing (not observed). Blue are positive, green are negative. Area of the square is proportional to the value. (This is known as a  \\bf Hinton diagram , named after Geoff Hinton, a famous ML researcher.) (b) True data matrix (hidden). (c) Mean of the posterior predictive distribution, based on partially observed data in that row, using the true model parameters.  \n",
    "Figure(s) generated by [gauss_imputation_known_params_demo.py](https://github.com/probml/pyprobml/blob/master/scripts/gauss_imputation_known_params_demo.py) "
   ]
  },
  {
   "cell_type": "code",
   "execution_count": null,
   "id": "d82e6277",
   "metadata": {},
   "outputs": [],
   "source": [
    "#@title Click me to run setup { display-mode: \"form\" }\n",
    "try:\n",
    "  if PYPROBML_SETUP_ALREADY_RUN:\n",
    "    print('skipping setup')\n",
    "except:\n",
    "  PYPROBML_SETUP_ALREADY_RUN = True\n",
    "  print('running setup...')\n",
    "  !git clone --depth 1 https://github.com/probml/pyprobml  /pyprobml &> /dev/null \n",
    "  %cd -q /pyprobml/scripts\n",
    "  %reload_ext autoreload \n",
    "  %autoreload 2\n",
    "  !pip install superimport deimport -qqq\n",
    "  import superimport\n",
    "def try_deimport():\n",
    "  try: \n",
    "    from deimport.deimport import deimport\n",
    "    deimport(superimport,verbose=True)\n",
    "  except Exception as e:\n",
    "    print(e)\n  print('finished!')"
   ]
  },
  {
   "cell_type": "code",
   "execution_count": null,
   "id": "49cb8099",
   "metadata": {},
   "outputs": [],
   "source": [
    "try_deimport()\n",
    "%run -n gauss_imputation_known_params_demo.py"
   ]
  },
  {
   "cell_type": "markdown",
   "id": "a01fb33c",
   "metadata": {},
   "source": [
    "## Figure 3.8:<a name='3.8'></a> <a name='gaussShrinkage'></a> "
   ]
  },
  {
   "cell_type": "markdown",
   "id": "4107f518",
   "metadata": {},
   "source": [
    "\n",
    " Inference about $z$ given a noisy observation $y=3$. (a) Strong prior $\\mathcal N (0,1)$. The posterior mean is ``shrunk'' towards the prior mean, which is 0. (b) Weak prior $\\mathcal N (0,5)$. The posterior mean is similar to the MLE.  \n",
    "Figure(s) generated by [gauss_infer_1d.py](https://github.com/probml/pyprobml/blob/master/scripts/gauss_infer_1d.py) "
   ]
  },
  {
   "cell_type": "code",
   "execution_count": null,
   "id": "d82e6277",
   "metadata": {},
   "outputs": [],
   "source": [
    "#@title Click me to run setup { display-mode: \"form\" }\n",
    "try:\n",
    "  if PYPROBML_SETUP_ALREADY_RUN:\n",
    "    print('skipping setup')\n",
    "except:\n",
    "  PYPROBML_SETUP_ALREADY_RUN = True\n",
    "  print('running setup...')\n",
    "  !git clone --depth 1 https://github.com/probml/pyprobml  /pyprobml &> /dev/null \n",
    "  %cd -q /pyprobml/scripts\n",
    "  %reload_ext autoreload \n",
    "  %autoreload 2\n",
    "  !pip install superimport deimport -qqq\n",
    "  import superimport\n",
    "def try_deimport():\n",
    "  try: \n",
    "    from deimport.deimport import deimport\n",
    "    deimport(superimport,verbose=True)\n",
    "  except Exception as e:\n",
    "    print(e)\n  print('finished!')"
   ]
  },
  {
   "cell_type": "code",
   "execution_count": null,
   "id": "e3590da5",
   "metadata": {},
   "outputs": [],
   "source": [
    "try_deimport()\n",
    "%run -n gauss_infer_1d.py"
   ]
  },
  {
   "cell_type": "markdown",
   "id": "16c8a7a2",
   "metadata": {},
   "source": [
    "## Figure 3.9:<a name='3.9'></a> <a name='gauss2dupdate'></a> "
   ]
  },
  {
   "cell_type": "markdown",
   "id": "361270c6",
   "metadata": {},
   "source": [
    "\n",
    " Illustration of Bayesian inference for a 2d Gaussian random vector $ \\bm z  $. (a) The data is generated from $ \\bm y  _n \\sim \\mathcal N ( \\bm z  ,\\boldsymbol \\Sigma  _y)$, where $ \\bm z  =[0.5, 0.5]^  \\mkern -1.5mu\\mathsf T   $ and $\\boldsymbol \\Sigma  _y=0.1 [2, 1; 1, 1])$. We assume the sensor noise covariance $\\boldsymbol \\Sigma  _y$ is known but $ \\bm z  $ is unknown. The black cross represents $ \\bm z  $. (b) The prior is $p( \\bm z  ) = \\mathcal N ( \\bm z  | \\bm 0  ,0.1 \\mathbf I _2)$. (c) We show the posterior after 10 data points have been observed.  \n",
    "Figure(s) generated by [gauss_infer_2d.py](https://github.com/probml/pyprobml/blob/master/scripts/gauss_infer_2d.py) "
   ]
  },
  {
   "cell_type": "code",
   "execution_count": null,
   "id": "d82e6277",
   "metadata": {},
   "outputs": [],
   "source": [
    "#@title Click me to run setup { display-mode: \"form\" }\n",
    "try:\n",
    "  if PYPROBML_SETUP_ALREADY_RUN:\n",
    "    print('skipping setup')\n",
    "except:\n",
    "  PYPROBML_SETUP_ALREADY_RUN = True\n",
    "  print('running setup...')\n",
    "  !git clone --depth 1 https://github.com/probml/pyprobml  /pyprobml &> /dev/null \n",
    "  %cd -q /pyprobml/scripts\n",
    "  %reload_ext autoreload \n",
    "  %autoreload 2\n",
    "  !pip install superimport deimport -qqq\n",
    "  import superimport\n",
    "def try_deimport():\n",
    "  try: \n",
    "    from deimport.deimport import deimport\n",
    "    deimport(superimport,verbose=True)\n",
    "  except Exception as e:\n",
    "    print(e)\n  print('finished!')"
   ]
  },
  {
   "cell_type": "code",
   "execution_count": null,
   "id": "eab4703c",
   "metadata": {},
   "outputs": [],
   "source": [
    "try_deimport()\n",
    "%run -n gauss_infer_2d.py"
   ]
  },
  {
   "cell_type": "markdown",
   "id": "32bfc244",
   "metadata": {},
   "source": [
    "## Figure 3.10:<a name='3.10'></a> <a name='demoGaussBayes2dUnequal'></a> "
   ]
  },
  {
   "cell_type": "markdown",
   "id": "b9789fde",
   "metadata": {},
   "source": [
    "\n",
    " We observe $ \\bm y  _1=(0,-1)$(red cross) and $ \\bm y  _2=(1,0)$(green cross) and estimate $\\mathbb E \\left[  \\bm z  | \\bm y  _1, \\bm y  _2 \\right ]$(black cross). (a) Equally reliable sensors, so the posterior mean estimate is in between the two circles. (b) Sensor 2 is more reliable, so the estimate shifts more towards the green circle. (c) Sensor 1 is more reliable in the vertical direction, Sensor 2 is more reliable in the horizontal direction. The estimate is an appropriate combination of the two measurements.  \n",
    "Figure(s) generated by [sensor_fusion_2d.py](https://github.com/probml/pyprobml/blob/master/scripts/sensor_fusion_2d.py) "
   ]
  },
  {
   "cell_type": "code",
   "execution_count": null,
   "id": "d82e6277",
   "metadata": {},
   "outputs": [],
   "source": [
    "#@title Click me to run setup { display-mode: \"form\" }\n",
    "try:\n",
    "  if PYPROBML_SETUP_ALREADY_RUN:\n",
    "    print('skipping setup')\n",
    "except:\n",
    "  PYPROBML_SETUP_ALREADY_RUN = True\n",
    "  print('running setup...')\n",
    "  !git clone --depth 1 https://github.com/probml/pyprobml  /pyprobml &> /dev/null \n",
    "  %cd -q /pyprobml/scripts\n",
    "  %reload_ext autoreload \n",
    "  %autoreload 2\n",
    "  !pip install superimport deimport -qqq\n",
    "  import superimport\n",
    "def try_deimport():\n",
    "  try: \n",
    "    from deimport.deimport import deimport\n",
    "    deimport(superimport,verbose=True)\n",
    "  except Exception as e:\n",
    "    print(e)\n  print('finished!')"
   ]
  },
  {
   "cell_type": "code",
   "execution_count": null,
   "id": "8259c935",
   "metadata": {},
   "outputs": [],
   "source": [
    "try_deimport()\n",
    "%run -n sensor_fusion_2d.py"
   ]
  },
  {
   "cell_type": "markdown",
   "id": "8f5c17a7",
   "metadata": {},
   "source": [
    "## Figure 3.11:<a name='3.11'></a> <a name='gmm3'></a> "
   ]
  },
  {
   "cell_type": "markdown",
   "id": "4fcd36e6",
   "metadata": {},
   "source": [
    "\n",
    " A mixture of 3 Gaussians in 2d. (a) We show the contours of constant probability for each component in the mixture. (b) A surface plot of the overall density. Adapted from Figure 2.23 of <a href='#BishopBook'>[Bis06]</a> .  \n",
    "Figure(s) generated by [gmm_plot_demo.py](https://github.com/probml/pyprobml/blob/master/scripts/gmm_plot_demo.py) "
   ]
  },
  {
   "cell_type": "code",
   "execution_count": null,
   "id": "d82e6277",
   "metadata": {},
   "outputs": [],
   "source": [
    "#@title Click me to run setup { display-mode: \"form\" }\n",
    "try:\n",
    "  if PYPROBML_SETUP_ALREADY_RUN:\n",
    "    print('skipping setup')\n",
    "except:\n",
    "  PYPROBML_SETUP_ALREADY_RUN = True\n",
    "  print('running setup...')\n",
    "  !git clone --depth 1 https://github.com/probml/pyprobml  /pyprobml &> /dev/null \n",
    "  %cd -q /pyprobml/scripts\n",
    "  %reload_ext autoreload \n",
    "  %autoreload 2\n",
    "  !pip install superimport deimport -qqq\n",
    "  import superimport\n",
    "def try_deimport():\n",
    "  try: \n",
    "    from deimport.deimport import deimport\n",
    "    deimport(superimport,verbose=True)\n",
    "  except Exception as e:\n",
    "    print(e)\n  print('finished!')"
   ]
  },
  {
   "cell_type": "code",
   "execution_count": null,
   "id": "31a88b0c",
   "metadata": {},
   "outputs": [],
   "source": [
    "try_deimport()\n",
    "%run -n gmm_plot_demo.py"
   ]
  },
  {
   "cell_type": "markdown",
   "id": "3fb87708",
   "metadata": {},
   "source": [
    "## Figure 3.12:<a name='3.12'></a> <a name='gmm2d'></a> "
   ]
  },
  {
   "cell_type": "markdown",
   "id": "98169714",
   "metadata": {},
   "source": [
    "\n",
    "(a) Some data in 2d. (b) A possible clustering using $K=5$ clusters computed using a GMM.  \n",
    "Figure(s) generated by [gmm_2d.py](https://github.com/probml/pyprobml/blob/master/scripts/gmm_2d.py) "
   ]
  },
  {
   "cell_type": "code",
   "execution_count": null,
   "id": "d82e6277",
   "metadata": {},
   "outputs": [],
   "source": [
    "#@title Click me to run setup { display-mode: \"form\" }\n",
    "try:\n",
    "  if PYPROBML_SETUP_ALREADY_RUN:\n",
    "    print('skipping setup')\n",
    "except:\n",
    "  PYPROBML_SETUP_ALREADY_RUN = True\n",
    "  print('running setup...')\n",
    "  !git clone --depth 1 https://github.com/probml/pyprobml  /pyprobml &> /dev/null \n",
    "  %cd -q /pyprobml/scripts\n",
    "  %reload_ext autoreload \n",
    "  %autoreload 2\n",
    "  !pip install superimport deimport -qqq\n",
    "  import superimport\n",
    "def try_deimport():\n",
    "  try: \n",
    "    from deimport.deimport import deimport\n",
    "    deimport(superimport,verbose=True)\n",
    "  except Exception as e:\n",
    "    print(e)\n  print('finished!')"
   ]
  },
  {
   "cell_type": "code",
   "execution_count": null,
   "id": "d88cb961",
   "metadata": {},
   "outputs": [],
   "source": [
    "try_deimport()\n",
    "%run -n gmm_2d.py"
   ]
  },
  {
   "cell_type": "markdown",
   "id": "7ed83370",
   "metadata": {},
   "source": [
    "## Figure 3.13:<a name='3.13'></a> <a name='mixBernoulliMnist'></a> "
   ]
  },
  {
   "cell_type": "markdown",
   "id": "53d6fb2f",
   "metadata": {},
   "source": [
    "\n",
    " We fit a mixture of 20 Bernoullis to the binarized MNIST digit data. We visualize the estimated cluster means $  \\bm \\mu    _k$. The numbers on top of each image represent the estimated mixing weights $ \\pi  _k$. No labels were used when training the model.  \n",
    "Figure(s) generated by [mix_ber_em_mnist.py](https://github.com/probml/pyprobml/blob/master/scripts/mix_ber_em_mnist.py) "
   ]
  },
  {
   "cell_type": "code",
   "execution_count": null,
   "id": "d82e6277",
   "metadata": {},
   "outputs": [],
   "source": [
    "#@title Click me to run setup { display-mode: \"form\" }\n",
    "try:\n",
    "  if PYPROBML_SETUP_ALREADY_RUN:\n",
    "    print('skipping setup')\n",
    "except:\n",
    "  PYPROBML_SETUP_ALREADY_RUN = True\n",
    "  print('running setup...')\n",
    "  !git clone --depth 1 https://github.com/probml/pyprobml  /pyprobml &> /dev/null \n",
    "  %cd -q /pyprobml/scripts\n",
    "  %reload_ext autoreload \n",
    "  %autoreload 2\n",
    "  !pip install superimport deimport -qqq\n",
    "  import superimport\n",
    "def try_deimport():\n",
    "  try: \n",
    "    from deimport.deimport import deimport\n",
    "    deimport(superimport,verbose=True)\n",
    "  except Exception as e:\n",
    "    print(e)\n  print('finished!')"
   ]
  },
  {
   "cell_type": "code",
   "execution_count": null,
   "id": "f17d513d",
   "metadata": {},
   "outputs": [],
   "source": [
    "try_deimport()\n",
    "%run -n mix_ber_em_mnist.py"
   ]
  },
  {
   "cell_type": "markdown",
   "id": "97b9a7f9",
   "metadata": {},
   "source": [
    "## Figure 3.14:<a name='3.14'></a> <a name='sprinkler'></a> "
   ]
  },
  {
   "cell_type": "markdown",
   "id": "7a8152eb",
   "metadata": {},
   "source": [
    "\n",
    " Water sprinkler PGM with corresponding binary CPTs. T and F stand for true and false"
   ]
  },
  {
   "cell_type": "code",
   "execution_count": null,
   "id": "d82e6277",
   "metadata": {},
   "outputs": [],
   "source": [
    "#@title Click me to run setup { display-mode: \"form\" }\n",
    "try:\n",
    "  if PYPROBML_SETUP_ALREADY_RUN:\n",
    "    print('skipping setup')\n",
    "except:\n",
    "  PYPROBML_SETUP_ALREADY_RUN = True\n",
    "  print('running setup...')\n",
    "  !git clone --depth 1 https://github.com/probml/pyprobml  /pyprobml &> /dev/null \n",
    "  %cd -q /pyprobml/scripts\n",
    "  %reload_ext autoreload \n",
    "  %autoreload 2\n",
    "  !pip install superimport deimport -qqq\n",
    "  import superimport\n",
    "def try_deimport():\n",
    "  try: \n",
    "    from deimport.deimport import deimport\n",
    "    deimport(superimport,verbose=True)\n",
    "  except Exception as e:\n",
    "    print(e)\n  print('finished!')"
   ]
  },
  {
   "cell_type": "markdown",
   "id": "7deb1bd1",
   "metadata": {},
   "source": [
    "<img src=\"https://raw.githubusercontent.com/probml/pml-book/main/pml1/figures/images/Figure_3.14.png\" width=\"256\"/>"
   ]
  },
  {
   "cell_type": "markdown",
   "id": "8ad6e014",
   "metadata": {},
   "source": [
    "## Figure 3.15:<a name='3.15'></a> <a name='ARDGM'></a> "
   ]
  },
  {
   "cell_type": "markdown",
   "id": "ea9c8e60",
   "metadata": {},
   "source": [
    "\n",
    " Illustration of first and second order autoregressive (Markov) models"
   ]
  },
  {
   "cell_type": "code",
   "execution_count": null,
   "id": "d82e6277",
   "metadata": {},
   "outputs": [],
   "source": [
    "#@title Click me to run setup { display-mode: \"form\" }\n",
    "try:\n",
    "  if PYPROBML_SETUP_ALREADY_RUN:\n",
    "    print('skipping setup')\n",
    "except:\n",
    "  PYPROBML_SETUP_ALREADY_RUN = True\n",
    "  print('running setup...')\n",
    "  !git clone --depth 1 https://github.com/probml/pyprobml  /pyprobml &> /dev/null \n",
    "  %cd -q /pyprobml/scripts\n",
    "  %reload_ext autoreload \n",
    "  %autoreload 2\n",
    "  !pip install superimport deimport -qqq\n",
    "  import superimport\n",
    "def try_deimport():\n",
    "  try: \n",
    "    from deimport.deimport import deimport\n",
    "    deimport(superimport,verbose=True)\n",
    "  except Exception as e:\n",
    "    print(e)\n  print('finished!')"
   ]
  },
  {
   "cell_type": "markdown",
   "id": "44666d69",
   "metadata": {},
   "source": [
    "<img src=\"https://raw.githubusercontent.com/probml/pml-book/main/pml1/figures/images/Figure_3.15_A.png\" width=\"256\"/>"
   ]
  },
  {
   "cell_type": "markdown",
   "id": "0374c03a",
   "metadata": {},
   "source": [
    "<img src=\"https://raw.githubusercontent.com/probml/pml-book/main/pml1/figures/images/Figure_3.15_B.png\" width=\"256\"/>"
   ]
  },
  {
   "cell_type": "markdown",
   "id": "17923df0",
   "metadata": {},
   "source": [
    "## Figure 3.16:<a name='3.16'></a> <a name='platesIID'></a> "
   ]
  },
  {
   "cell_type": "markdown",
   "id": "449ed105",
   "metadata": {},
   "source": [
    "\n",
    " Left: data points $ \\bm y  _n$ are conditionally independent given $ \\bm \\theta   $. Right: Same model, using plate notation. This represents the same model as the one on the left, except the repeated $ \\bm y  _n$ nodes are inside a box, known as a plate; the number in the lower right hand corner, $N$, specifies the number of repetitions of the $ \\bm y  _n$ node"
   ]
  },
  {
   "cell_type": "code",
   "execution_count": null,
   "id": "d82e6277",
   "metadata": {},
   "outputs": [],
   "source": [
    "#@title Click me to run setup { display-mode: \"form\" }\n",
    "try:\n",
    "  if PYPROBML_SETUP_ALREADY_RUN:\n",
    "    print('skipping setup')\n",
    "except:\n",
    "  PYPROBML_SETUP_ALREADY_RUN = True\n",
    "  print('running setup...')\n",
    "  !git clone --depth 1 https://github.com/probml/pyprobml  /pyprobml &> /dev/null \n",
    "  %cd -q /pyprobml/scripts\n",
    "  %reload_ext autoreload \n",
    "  %autoreload 2\n",
    "  !pip install superimport deimport -qqq\n",
    "  import superimport\n",
    "def try_deimport():\n",
    "  try: \n",
    "    from deimport.deimport import deimport\n",
    "    deimport(superimport,verbose=True)\n",
    "  except Exception as e:\n",
    "    print(e)\n  print('finished!')"
   ]
  },
  {
   "cell_type": "markdown",
   "id": "e8e3afe5",
   "metadata": {},
   "source": [
    "<img src=\"https://raw.githubusercontent.com/probml/pml-book/main/pml1/figures/images/Figure_3.16.png\" width=\"256\"/>"
   ]
  },
  {
   "cell_type": "markdown",
   "id": "ceb64cb6",
   "metadata": {},
   "source": [
    "## Figure 3.17:<a name='3.17'></a> <a name='gmmDgm'></a> "
   ]
  },
  {
   "cell_type": "markdown",
   "id": "b45b5e36",
   "metadata": {},
   "source": [
    "\n",
    " A Gaussian mixture model represented as a graphical model"
   ]
  },
  {
   "cell_type": "code",
   "execution_count": null,
   "id": "d82e6277",
   "metadata": {},
   "outputs": [],
   "source": [
    "#@title Click me to run setup { display-mode: \"form\" }\n",
    "try:\n",
    "  if PYPROBML_SETUP_ALREADY_RUN:\n",
    "    print('skipping setup')\n",
    "except:\n",
    "  PYPROBML_SETUP_ALREADY_RUN = True\n",
    "  print('running setup...')\n",
    "  !git clone --depth 1 https://github.com/probml/pyprobml  /pyprobml &> /dev/null \n",
    "  %cd -q /pyprobml/scripts\n",
    "  %reload_ext autoreload \n",
    "  %autoreload 2\n",
    "  !pip install superimport deimport -qqq\n",
    "  import superimport\n",
    "def try_deimport():\n",
    "  try: \n",
    "    from deimport.deimport import deimport\n",
    "    deimport(superimport,verbose=True)\n",
    "  except Exception as e:\n",
    "    print(e)\n  print('finished!')"
   ]
  },
  {
   "cell_type": "markdown",
   "id": "ab21dbeb",
   "metadata": {},
   "source": [
    "<img src=\"https://raw.githubusercontent.com/probml/pml-book/main/pml1/figures/images/Figure_3.17.png\" width=\"256\"/>"
   ]
  },
  {
   "cell_type": "markdown",
   "id": "15857fed",
   "metadata": {},
   "source": [
    "## References:\n",
    " <a name='BishopBook'>[Bis06]</a> C. Bishop \"Pattern recognition and machine learning\". (2006). \n",
    "\n",
    "<a name='VonKugelgen2020'>[JLB20]</a> v. Julius, G. Luigi and S. Bernhard. \"Simpson's paradox in Covid-19 case fatality rates: amediation analysis of age-related causal effects\". abs/2005.07180 (2020). arXiv: 2005.07180 \n",
    "\n"
   ]
  }
 ],
 "metadata": {
  "kernelspec": {
   "display_name": "Python 3",
   "name": "python3"
  }
 },
 "nbformat": 4,
 "nbformat_minor": 5
}
